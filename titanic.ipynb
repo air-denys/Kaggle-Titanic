{
 "cells": [
  {
   "cell_type": "code",
   "execution_count": 1,
   "metadata": {},
   "outputs": [],
   "source": [
    "import pandas as pd\n",
    "import numpy as np\n",
    "import matplotlib.pyplot as plt\n",
    "import seaborn as sns\n",
    "\n",
    "from sklearn.impute import SimpleImputer, KNNImputer\n",
    "from sklearn.preprocessing import OrdinalEncoder, OneHotEncoder, StandardScaler, MinMaxScaler\n",
    "from sklearn.model_selection import train_test_split, cross_val_score, GridSearchCV\n",
    "from sklearn.metrics import mean_absolute_error, mean_squared_error\n",
    "from sklearn.pipeline import make_pipeline, Pipeline\n",
    "\n",
    "from sklearn.ensemble import RandomForestClassifier, GradientBoostingClassifier, StackingClassifier, VotingClassifier\n",
    "from sklearn.naive_bayes import MultinomialNB\n",
    "from sklearn.svm import SVC\n",
    "from sklearn.linear_model import LogisticRegression\n",
    "\n",
    "from lightgbm import LGBMClassifier\n",
    "from xgboost import XGBClassifier"
   ]
  },
  {
   "cell_type": "markdown",
   "metadata": {},
   "source": [
    "# Load data"
   ]
  },
  {
   "cell_type": "code",
   "execution_count": 2,
   "metadata": {},
   "outputs": [
    {
     "data": {
      "text/html": [
       "<div>\n",
       "<style scoped>\n",
       "    .dataframe tbody tr th:only-of-type {\n",
       "        vertical-align: middle;\n",
       "    }\n",
       "\n",
       "    .dataframe tbody tr th {\n",
       "        vertical-align: top;\n",
       "    }\n",
       "\n",
       "    .dataframe thead th {\n",
       "        text-align: right;\n",
       "    }\n",
       "</style>\n",
       "<table border=\"1\" class=\"dataframe\">\n",
       "  <thead>\n",
       "    <tr style=\"text-align: right;\">\n",
       "      <th></th>\n",
       "      <th>Pclass</th>\n",
       "      <th>Name</th>\n",
       "      <th>Sex</th>\n",
       "      <th>Age</th>\n",
       "      <th>SibSp</th>\n",
       "      <th>Parch</th>\n",
       "      <th>Ticket</th>\n",
       "      <th>Fare</th>\n",
       "      <th>Cabin</th>\n",
       "      <th>Embarked</th>\n",
       "    </tr>\n",
       "  </thead>\n",
       "  <tbody>\n",
       "    <tr>\n",
       "      <th>0</th>\n",
       "      <td>3</td>\n",
       "      <td>Braund, Mr. Owen Harris</td>\n",
       "      <td>male</td>\n",
       "      <td>22.0</td>\n",
       "      <td>1</td>\n",
       "      <td>0</td>\n",
       "      <td>A/5 21171</td>\n",
       "      <td>7.2500</td>\n",
       "      <td>NaN</td>\n",
       "      <td>S</td>\n",
       "    </tr>\n",
       "    <tr>\n",
       "      <th>1</th>\n",
       "      <td>1</td>\n",
       "      <td>Cumings, Mrs. John Bradley (Florence Briggs Th...</td>\n",
       "      <td>female</td>\n",
       "      <td>38.0</td>\n",
       "      <td>1</td>\n",
       "      <td>0</td>\n",
       "      <td>PC 17599</td>\n",
       "      <td>71.2833</td>\n",
       "      <td>C85</td>\n",
       "      <td>C</td>\n",
       "    </tr>\n",
       "    <tr>\n",
       "      <th>2</th>\n",
       "      <td>3</td>\n",
       "      <td>Heikkinen, Miss. Laina</td>\n",
       "      <td>female</td>\n",
       "      <td>26.0</td>\n",
       "      <td>0</td>\n",
       "      <td>0</td>\n",
       "      <td>STON/O2. 3101282</td>\n",
       "      <td>7.9250</td>\n",
       "      <td>NaN</td>\n",
       "      <td>S</td>\n",
       "    </tr>\n",
       "    <tr>\n",
       "      <th>3</th>\n",
       "      <td>1</td>\n",
       "      <td>Futrelle, Mrs. Jacques Heath (Lily May Peel)</td>\n",
       "      <td>female</td>\n",
       "      <td>35.0</td>\n",
       "      <td>1</td>\n",
       "      <td>0</td>\n",
       "      <td>113803</td>\n",
       "      <td>53.1000</td>\n",
       "      <td>C123</td>\n",
       "      <td>S</td>\n",
       "    </tr>\n",
       "    <tr>\n",
       "      <th>4</th>\n",
       "      <td>3</td>\n",
       "      <td>Allen, Mr. William Henry</td>\n",
       "      <td>male</td>\n",
       "      <td>35.0</td>\n",
       "      <td>0</td>\n",
       "      <td>0</td>\n",
       "      <td>373450</td>\n",
       "      <td>8.0500</td>\n",
       "      <td>NaN</td>\n",
       "      <td>S</td>\n",
       "    </tr>\n",
       "  </tbody>\n",
       "</table>\n",
       "</div>"
      ],
      "text/plain": [
       "   Pclass                                               Name     Sex   Age  \\\n",
       "0       3                            Braund, Mr. Owen Harris    male  22.0   \n",
       "1       1  Cumings, Mrs. John Bradley (Florence Briggs Th...  female  38.0   \n",
       "2       3                             Heikkinen, Miss. Laina  female  26.0   \n",
       "3       1       Futrelle, Mrs. Jacques Heath (Lily May Peel)  female  35.0   \n",
       "4       3                           Allen, Mr. William Henry    male  35.0   \n",
       "\n",
       "   SibSp  Parch            Ticket     Fare Cabin Embarked  \n",
       "0      1      0         A/5 21171   7.2500   NaN        S  \n",
       "1      1      0          PC 17599  71.2833   C85        C  \n",
       "2      0      0  STON/O2. 3101282   7.9250   NaN        S  \n",
       "3      1      0            113803  53.1000  C123        S  \n",
       "4      0      0            373450   8.0500   NaN        S  "
      ]
     },
     "execution_count": 2,
     "metadata": {},
     "output_type": "execute_result"
    }
   ],
   "source": [
    "train = pd.read_csv('train.csv')\n",
    "test  = pd.read_csv('test.csv')\n",
    "\n",
    "# lets combine train and test into 1 dataframe and drop id column\n",
    "df = train.drop('Survived', axis = 1).append(test, ignore_index=True).drop(['PassengerId'], axis = 1)\n",
    "\n",
    "y = train['Survived']\n",
    "x_id = test['PassengerId']\n",
    "\n",
    "df.head()"
   ]
  },
  {
   "cell_type": "markdown",
   "metadata": {},
   "source": [
    "survival - Survival (0 = No, 1 = Yes)\n",
    "\n",
    "pclass - Ticket class (1 = 1st, 2 = 2nd, 3 = 3rd)\n",
    "\n",
    "sex - Sex\n",
    "\n",
    "Age - Age in years\n",
    "\n",
    "sibsp - # of siblings / spouses aboard the Titanic\n",
    "\n",
    "parch - # of parents / children aboard the Titanic\n",
    "\n",
    "ticket - Ticket number\n",
    "\n",
    "fare - Passenger fare\n",
    "\n",
    "cabin- Cabin number\n",
    "\n",
    "embarked - Port of Embarkation (C = Cherbourg, Q = Queenstown, S = Southampton)"
   ]
  },
  {
   "cell_type": "markdown",
   "metadata": {},
   "source": [
    "# Feature engineering"
   ]
  },
  {
   "cell_type": "code",
   "execution_count": 3,
   "metadata": {},
   "outputs": [
    {
     "data": {
      "text/html": [
       "<div>\n",
       "<style scoped>\n",
       "    .dataframe tbody tr th:only-of-type {\n",
       "        vertical-align: middle;\n",
       "    }\n",
       "\n",
       "    .dataframe tbody tr th {\n",
       "        vertical-align: top;\n",
       "    }\n",
       "\n",
       "    .dataframe thead th {\n",
       "        text-align: right;\n",
       "    }\n",
       "</style>\n",
       "<table border=\"1\" class=\"dataframe\">\n",
       "  <thead>\n",
       "    <tr style=\"text-align: right;\">\n",
       "      <th></th>\n",
       "      <th>Pclass</th>\n",
       "      <th>Name</th>\n",
       "      <th>Sex</th>\n",
       "      <th>Age</th>\n",
       "      <th>SibSp</th>\n",
       "      <th>Parch</th>\n",
       "      <th>Ticket</th>\n",
       "      <th>Fare</th>\n",
       "      <th>Cabin</th>\n",
       "      <th>Embarked</th>\n",
       "      <th>Deck</th>\n",
       "    </tr>\n",
       "  </thead>\n",
       "  <tbody>\n",
       "    <tr>\n",
       "      <th>0</th>\n",
       "      <td>3</td>\n",
       "      <td>Braund, Mr. Owen Harris</td>\n",
       "      <td>male</td>\n",
       "      <td>22.0</td>\n",
       "      <td>1</td>\n",
       "      <td>0</td>\n",
       "      <td>A/5 21171</td>\n",
       "      <td>7.2500</td>\n",
       "      <td>NaN</td>\n",
       "      <td>S</td>\n",
       "      <td>NaN</td>\n",
       "    </tr>\n",
       "    <tr>\n",
       "      <th>1</th>\n",
       "      <td>1</td>\n",
       "      <td>Cumings, Mrs. John Bradley (Florence Briggs Th...</td>\n",
       "      <td>female</td>\n",
       "      <td>38.0</td>\n",
       "      <td>1</td>\n",
       "      <td>0</td>\n",
       "      <td>PC 17599</td>\n",
       "      <td>71.2833</td>\n",
       "      <td>C85</td>\n",
       "      <td>C</td>\n",
       "      <td>C</td>\n",
       "    </tr>\n",
       "    <tr>\n",
       "      <th>2</th>\n",
       "      <td>3</td>\n",
       "      <td>Heikkinen, Miss. Laina</td>\n",
       "      <td>female</td>\n",
       "      <td>26.0</td>\n",
       "      <td>0</td>\n",
       "      <td>0</td>\n",
       "      <td>STON/O2. 3101282</td>\n",
       "      <td>7.9250</td>\n",
       "      <td>NaN</td>\n",
       "      <td>S</td>\n",
       "      <td>NaN</td>\n",
       "    </tr>\n",
       "    <tr>\n",
       "      <th>3</th>\n",
       "      <td>1</td>\n",
       "      <td>Futrelle, Mrs. Jacques Heath (Lily May Peel)</td>\n",
       "      <td>female</td>\n",
       "      <td>35.0</td>\n",
       "      <td>1</td>\n",
       "      <td>0</td>\n",
       "      <td>113803</td>\n",
       "      <td>53.1000</td>\n",
       "      <td>C123</td>\n",
       "      <td>S</td>\n",
       "      <td>C</td>\n",
       "    </tr>\n",
       "    <tr>\n",
       "      <th>4</th>\n",
       "      <td>3</td>\n",
       "      <td>Allen, Mr. William Henry</td>\n",
       "      <td>male</td>\n",
       "      <td>35.0</td>\n",
       "      <td>0</td>\n",
       "      <td>0</td>\n",
       "      <td>373450</td>\n",
       "      <td>8.0500</td>\n",
       "      <td>NaN</td>\n",
       "      <td>S</td>\n",
       "      <td>NaN</td>\n",
       "    </tr>\n",
       "  </tbody>\n",
       "</table>\n",
       "</div>"
      ],
      "text/plain": [
       "   Pclass                                               Name     Sex   Age  \\\n",
       "0       3                            Braund, Mr. Owen Harris    male  22.0   \n",
       "1       1  Cumings, Mrs. John Bradley (Florence Briggs Th...  female  38.0   \n",
       "2       3                             Heikkinen, Miss. Laina  female  26.0   \n",
       "3       1       Futrelle, Mrs. Jacques Heath (Lily May Peel)  female  35.0   \n",
       "4       3                           Allen, Mr. William Henry    male  35.0   \n",
       "\n",
       "   SibSp  Parch            Ticket     Fare Cabin Embarked Deck  \n",
       "0      1      0         A/5 21171   7.2500   NaN        S  NaN  \n",
       "1      1      0          PC 17599  71.2833   C85        C    C  \n",
       "2      0      0  STON/O2. 3101282   7.9250   NaN        S  NaN  \n",
       "3      1      0            113803  53.1000  C123        S    C  \n",
       "4      0      0            373450   8.0500   NaN        S  NaN  "
      ]
     },
     "execution_count": 3,
     "metadata": {},
     "output_type": "execute_result"
    }
   ],
   "source": [
    "#extract Deck? letter from Cabin\n",
    "df['Deck'] = df['Cabin'].str[0]\n",
    "df.head()"
   ]
  },
  {
   "cell_type": "code",
   "execution_count": 4,
   "metadata": {},
   "outputs": [
    {
     "data": {
      "text/plain": [
       "Mr        775\n",
       "Miss      266\n",
       "Mrs       199\n",
       "Master     61\n",
       "Dr          8\n",
       "Name: Title, dtype: int64"
      ]
     },
     "execution_count": 4,
     "metadata": {},
     "output_type": "execute_result"
    }
   ],
   "source": [
    "#extract titles from Name\n",
    "df['Title'] = df['Name'].str.extract(' ([A-Za-z]+)\\.', expand=False)\n",
    "\n",
    "# manual fix of few names\n",
    "df['Title'].replace(['Mme', 'Countess'], 'Mrs', inplace = True)\n",
    "df['Title'].replace(['Ms', 'Mlle', 'Dona', 'Lady'], 'Miss', inplace = True)\n",
    "df['Title'].replace(['Major', 'Jonkheer', 'Capt', 'Don', 'Sir', 'Rev', 'Col'], 'Mr', inplace = True)\n",
    "df['Title'].value_counts()"
   ]
  },
  {
   "cell_type": "code",
   "execution_count": 5,
   "metadata": {},
   "outputs": [
    {
     "data": {
      "text/html": [
       "<div>\n",
       "<style scoped>\n",
       "    .dataframe tbody tr th:only-of-type {\n",
       "        vertical-align: middle;\n",
       "    }\n",
       "\n",
       "    .dataframe tbody tr th {\n",
       "        vertical-align: top;\n",
       "    }\n",
       "\n",
       "    .dataframe thead th {\n",
       "        text-align: right;\n",
       "    }\n",
       "</style>\n",
       "<table border=\"1\" class=\"dataframe\">\n",
       "  <thead>\n",
       "    <tr style=\"text-align: right;\">\n",
       "      <th></th>\n",
       "      <th>Pclass</th>\n",
       "      <th>Name</th>\n",
       "      <th>Sex</th>\n",
       "      <th>Age</th>\n",
       "      <th>SibSp</th>\n",
       "      <th>Parch</th>\n",
       "      <th>Ticket</th>\n",
       "      <th>Fare</th>\n",
       "      <th>Cabin</th>\n",
       "      <th>Embarked</th>\n",
       "      <th>Deck</th>\n",
       "      <th>Title</th>\n",
       "      <th>Fare_adjust</th>\n",
       "      <th>Group_size</th>\n",
       "    </tr>\n",
       "  </thead>\n",
       "  <tbody>\n",
       "    <tr>\n",
       "      <th>0</th>\n",
       "      <td>3</td>\n",
       "      <td>Braund, Mr. Owen Harris</td>\n",
       "      <td>male</td>\n",
       "      <td>22.0</td>\n",
       "      <td>1</td>\n",
       "      <td>0</td>\n",
       "      <td>A/5 21171</td>\n",
       "      <td>7.2500</td>\n",
       "      <td>NaN</td>\n",
       "      <td>S</td>\n",
       "      <td>NaN</td>\n",
       "      <td>Mr</td>\n",
       "      <td>7.25000</td>\n",
       "      <td>2</td>\n",
       "    </tr>\n",
       "    <tr>\n",
       "      <th>1</th>\n",
       "      <td>1</td>\n",
       "      <td>Cumings, Mrs. John Bradley (Florence Briggs Th...</td>\n",
       "      <td>female</td>\n",
       "      <td>38.0</td>\n",
       "      <td>1</td>\n",
       "      <td>0</td>\n",
       "      <td>PC 17599</td>\n",
       "      <td>71.2833</td>\n",
       "      <td>C85</td>\n",
       "      <td>C</td>\n",
       "      <td>C</td>\n",
       "      <td>Mrs</td>\n",
       "      <td>35.64165</td>\n",
       "      <td>2</td>\n",
       "    </tr>\n",
       "    <tr>\n",
       "      <th>2</th>\n",
       "      <td>3</td>\n",
       "      <td>Heikkinen, Miss. Laina</td>\n",
       "      <td>female</td>\n",
       "      <td>26.0</td>\n",
       "      <td>0</td>\n",
       "      <td>0</td>\n",
       "      <td>STON/O2. 3101282</td>\n",
       "      <td>7.9250</td>\n",
       "      <td>NaN</td>\n",
       "      <td>S</td>\n",
       "      <td>NaN</td>\n",
       "      <td>Miss</td>\n",
       "      <td>7.92500</td>\n",
       "      <td>1</td>\n",
       "    </tr>\n",
       "    <tr>\n",
       "      <th>3</th>\n",
       "      <td>1</td>\n",
       "      <td>Futrelle, Mrs. Jacques Heath (Lily May Peel)</td>\n",
       "      <td>female</td>\n",
       "      <td>35.0</td>\n",
       "      <td>1</td>\n",
       "      <td>0</td>\n",
       "      <td>113803</td>\n",
       "      <td>53.1000</td>\n",
       "      <td>C123</td>\n",
       "      <td>S</td>\n",
       "      <td>C</td>\n",
       "      <td>Mrs</td>\n",
       "      <td>26.55000</td>\n",
       "      <td>2</td>\n",
       "    </tr>\n",
       "    <tr>\n",
       "      <th>4</th>\n",
       "      <td>3</td>\n",
       "      <td>Allen, Mr. William Henry</td>\n",
       "      <td>male</td>\n",
       "      <td>35.0</td>\n",
       "      <td>0</td>\n",
       "      <td>0</td>\n",
       "      <td>373450</td>\n",
       "      <td>8.0500</td>\n",
       "      <td>NaN</td>\n",
       "      <td>S</td>\n",
       "      <td>NaN</td>\n",
       "      <td>Mr</td>\n",
       "      <td>8.05000</td>\n",
       "      <td>1</td>\n",
       "    </tr>\n",
       "  </tbody>\n",
       "</table>\n",
       "</div>"
      ],
      "text/plain": [
       "   Pclass                                               Name     Sex   Age  \\\n",
       "0       3                            Braund, Mr. Owen Harris    male  22.0   \n",
       "1       1  Cumings, Mrs. John Bradley (Florence Briggs Th...  female  38.0   \n",
       "2       3                             Heikkinen, Miss. Laina  female  26.0   \n",
       "3       1       Futrelle, Mrs. Jacques Heath (Lily May Peel)  female  35.0   \n",
       "4       3                           Allen, Mr. William Henry    male  35.0   \n",
       "\n",
       "   SibSp  Parch            Ticket     Fare Cabin Embarked Deck Title  \\\n",
       "0      1      0         A/5 21171   7.2500   NaN        S  NaN    Mr   \n",
       "1      1      0          PC 17599  71.2833   C85        C    C   Mrs   \n",
       "2      0      0  STON/O2. 3101282   7.9250   NaN        S  NaN  Miss   \n",
       "3      1      0            113803  53.1000  C123        S    C   Mrs   \n",
       "4      0      0            373450   8.0500   NaN        S  NaN    Mr   \n",
       "\n",
       "   Fare_adjust  Group_size  \n",
       "0      7.25000           2  \n",
       "1     35.64165           2  \n",
       "2      7.92500           1  \n",
       "3     26.55000           2  \n",
       "4      8.05000           1  "
      ]
     },
     "execution_count": 5,
     "metadata": {},
     "output_type": "execute_result"
    }
   ],
   "source": [
    "# fare price per ticket -> price per person\n",
    "df['Fare_adjust'] = df['Fare']\n",
    "# add group size (not all groups are made of relatives)\n",
    "df['Group_size'] = df['SibSp'] + df['Parch'] + 1\n",
    "ticket_duplicates = df[df.duplicated('Ticket', keep = False)].sort_values('Ticket').groupby('Ticket').count()[['Pclass']].rename(columns = {'Pclass':'Count'})\n",
    "\n",
    "for ticket in ticket_duplicates.index:\n",
    "    idx = df[df['Ticket'] == ticket].index\n",
    "    df.loc[idx, 'Fare_adjust'] /= ticket_duplicates.loc[ticket].values\n",
    "    df.loc[idx, 'Group_size'] = ticket_duplicates.loc[ticket][0]\n",
    "df.head()"
   ]
  },
  {
   "cell_type": "code",
   "execution_count": 6,
   "metadata": {},
   "outputs": [],
   "source": [
    "# drop columns\n",
    "drop_cols = ['Name', 'Cabin', 'Fare', 'Ticket']\n",
    "df.drop(drop_cols, axis =1 , inplace = True)"
   ]
  },
  {
   "cell_type": "markdown",
   "metadata": {},
   "source": [
    "# Categorical encoding and filling missing values"
   ]
  },
  {
   "cell_type": "code",
   "execution_count": 24,
   "metadata": {},
   "outputs": [
    {
     "data": {
      "text/html": [
       "<div>\n",
       "<style scoped>\n",
       "    .dataframe tbody tr th:only-of-type {\n",
       "        vertical-align: middle;\n",
       "    }\n",
       "\n",
       "    .dataframe tbody tr th {\n",
       "        vertical-align: top;\n",
       "    }\n",
       "\n",
       "    .dataframe thead th {\n",
       "        text-align: right;\n",
       "    }\n",
       "</style>\n",
       "<table border=\"1\" class=\"dataframe\">\n",
       "  <thead>\n",
       "    <tr style=\"text-align: right;\">\n",
       "      <th></th>\n",
       "      <th>Pclass</th>\n",
       "      <th>Sex</th>\n",
       "      <th>Age</th>\n",
       "      <th>SibSp</th>\n",
       "      <th>Parch</th>\n",
       "      <th>Embarked</th>\n",
       "      <th>Deck</th>\n",
       "      <th>Title</th>\n",
       "      <th>Fare_adjust</th>\n",
       "      <th>Group_size</th>\n",
       "    </tr>\n",
       "  </thead>\n",
       "  <tbody>\n",
       "    <tr>\n",
       "      <th>0</th>\n",
       "      <td>3</td>\n",
       "      <td>1.0</td>\n",
       "      <td>22.0</td>\n",
       "      <td>1</td>\n",
       "      <td>0</td>\n",
       "      <td>2.0</td>\n",
       "      <td>NaN</td>\n",
       "      <td>3.0</td>\n",
       "      <td>7.25000</td>\n",
       "      <td>2</td>\n",
       "    </tr>\n",
       "    <tr>\n",
       "      <th>1</th>\n",
       "      <td>1</td>\n",
       "      <td>0.0</td>\n",
       "      <td>38.0</td>\n",
       "      <td>1</td>\n",
       "      <td>0</td>\n",
       "      <td>0.0</td>\n",
       "      <td>2.0</td>\n",
       "      <td>4.0</td>\n",
       "      <td>35.64165</td>\n",
       "      <td>2</td>\n",
       "    </tr>\n",
       "    <tr>\n",
       "      <th>2</th>\n",
       "      <td>3</td>\n",
       "      <td>0.0</td>\n",
       "      <td>26.0</td>\n",
       "      <td>0</td>\n",
       "      <td>0</td>\n",
       "      <td>2.0</td>\n",
       "      <td>NaN</td>\n",
       "      <td>2.0</td>\n",
       "      <td>7.92500</td>\n",
       "      <td>1</td>\n",
       "    </tr>\n",
       "    <tr>\n",
       "      <th>3</th>\n",
       "      <td>1</td>\n",
       "      <td>0.0</td>\n",
       "      <td>35.0</td>\n",
       "      <td>1</td>\n",
       "      <td>0</td>\n",
       "      <td>2.0</td>\n",
       "      <td>2.0</td>\n",
       "      <td>4.0</td>\n",
       "      <td>26.55000</td>\n",
       "      <td>2</td>\n",
       "    </tr>\n",
       "    <tr>\n",
       "      <th>4</th>\n",
       "      <td>3</td>\n",
       "      <td>1.0</td>\n",
       "      <td>35.0</td>\n",
       "      <td>0</td>\n",
       "      <td>0</td>\n",
       "      <td>2.0</td>\n",
       "      <td>NaN</td>\n",
       "      <td>3.0</td>\n",
       "      <td>8.05000</td>\n",
       "      <td>1</td>\n",
       "    </tr>\n",
       "  </tbody>\n",
       "</table>\n",
       "</div>"
      ],
      "text/plain": [
       "   Pclass  Sex   Age  SibSp  Parch Embarked Deck  Title  Fare_adjust  \\\n",
       "0       3  1.0  22.0      1      0      2.0  NaN    3.0      7.25000   \n",
       "1       1  0.0  38.0      1      0      0.0  2.0    4.0     35.64165   \n",
       "2       3  0.0  26.0      0      0      2.0  NaN    2.0      7.92500   \n",
       "3       1  0.0  35.0      1      0      2.0  2.0    4.0     26.55000   \n",
       "4       3  1.0  35.0      0      0      2.0  NaN    3.0      8.05000   \n",
       "\n",
       "   Group_size  \n",
       "0           2  \n",
       "1           2  \n",
       "2           1  \n",
       "3           2  \n",
       "4           1  "
      ]
     },
     "execution_count": 24,
     "metadata": {},
     "output_type": "execute_result"
    }
   ],
   "source": [
    "# it's time to encode categorical features \n",
    "encoder = OrdinalEncoder()\n",
    "\n",
    "df_enc = df.copy()\n",
    "\n",
    "for cat in df_enc.select_dtypes(include=['object']).columns:\n",
    "    # encode only not missing values\n",
    "    cat_mask = df_enc[cat].notna()\n",
    "    df_enc.loc[cat_mask, cat] = encoder.fit_transform(df_enc[cat_mask][[cat]])\n",
    "df_enc.head()"
   ]
  },
  {
   "cell_type": "code",
   "execution_count": 25,
   "metadata": {},
   "outputs": [
    {
     "data": {
      "text/html": [
       "<div>\n",
       "<style scoped>\n",
       "    .dataframe tbody tr th:only-of-type {\n",
       "        vertical-align: middle;\n",
       "    }\n",
       "\n",
       "    .dataframe tbody tr th {\n",
       "        vertical-align: top;\n",
       "    }\n",
       "\n",
       "    .dataframe thead th {\n",
       "        text-align: right;\n",
       "    }\n",
       "</style>\n",
       "<table border=\"1\" class=\"dataframe\">\n",
       "  <thead>\n",
       "    <tr style=\"text-align: right;\">\n",
       "      <th></th>\n",
       "      <th>Sex</th>\n",
       "      <th>Age</th>\n",
       "      <th>SibSp</th>\n",
       "      <th>Parch</th>\n",
       "      <th>Deck</th>\n",
       "      <th>Fare_adjust</th>\n",
       "      <th>Group_size</th>\n",
       "      <th>Pclass_2</th>\n",
       "      <th>Pclass_3</th>\n",
       "      <th>Embarked_1</th>\n",
       "      <th>Embarked_2</th>\n",
       "      <th>Title_1</th>\n",
       "      <th>Title_2</th>\n",
       "      <th>Title_3</th>\n",
       "      <th>Title_4</th>\n",
       "    </tr>\n",
       "  </thead>\n",
       "  <tbody>\n",
       "    <tr>\n",
       "      <th>0</th>\n",
       "      <td>1</td>\n",
       "      <td>22</td>\n",
       "      <td>1</td>\n",
       "      <td>0</td>\n",
       "      <td>5</td>\n",
       "      <td>7</td>\n",
       "      <td>2</td>\n",
       "      <td>0</td>\n",
       "      <td>1</td>\n",
       "      <td>0</td>\n",
       "      <td>1</td>\n",
       "      <td>0</td>\n",
       "      <td>0</td>\n",
       "      <td>1</td>\n",
       "      <td>0</td>\n",
       "    </tr>\n",
       "    <tr>\n",
       "      <th>1</th>\n",
       "      <td>0</td>\n",
       "      <td>38</td>\n",
       "      <td>1</td>\n",
       "      <td>0</td>\n",
       "      <td>2</td>\n",
       "      <td>36</td>\n",
       "      <td>2</td>\n",
       "      <td>0</td>\n",
       "      <td>0</td>\n",
       "      <td>0</td>\n",
       "      <td>0</td>\n",
       "      <td>0</td>\n",
       "      <td>0</td>\n",
       "      <td>0</td>\n",
       "      <td>1</td>\n",
       "    </tr>\n",
       "    <tr>\n",
       "      <th>2</th>\n",
       "      <td>0</td>\n",
       "      <td>26</td>\n",
       "      <td>0</td>\n",
       "      <td>0</td>\n",
       "      <td>6</td>\n",
       "      <td>8</td>\n",
       "      <td>1</td>\n",
       "      <td>0</td>\n",
       "      <td>1</td>\n",
       "      <td>0</td>\n",
       "      <td>1</td>\n",
       "      <td>0</td>\n",
       "      <td>1</td>\n",
       "      <td>0</td>\n",
       "      <td>0</td>\n",
       "    </tr>\n",
       "    <tr>\n",
       "      <th>3</th>\n",
       "      <td>0</td>\n",
       "      <td>35</td>\n",
       "      <td>1</td>\n",
       "      <td>0</td>\n",
       "      <td>2</td>\n",
       "      <td>27</td>\n",
       "      <td>2</td>\n",
       "      <td>0</td>\n",
       "      <td>0</td>\n",
       "      <td>0</td>\n",
       "      <td>1</td>\n",
       "      <td>0</td>\n",
       "      <td>0</td>\n",
       "      <td>0</td>\n",
       "      <td>1</td>\n",
       "    </tr>\n",
       "    <tr>\n",
       "      <th>4</th>\n",
       "      <td>1</td>\n",
       "      <td>35</td>\n",
       "      <td>0</td>\n",
       "      <td>0</td>\n",
       "      <td>4</td>\n",
       "      <td>8</td>\n",
       "      <td>1</td>\n",
       "      <td>0</td>\n",
       "      <td>1</td>\n",
       "      <td>0</td>\n",
       "      <td>1</td>\n",
       "      <td>0</td>\n",
       "      <td>0</td>\n",
       "      <td>1</td>\n",
       "      <td>0</td>\n",
       "    </tr>\n",
       "  </tbody>\n",
       "</table>\n",
       "</div>"
      ],
      "text/plain": [
       "   Sex  Age  SibSp  Parch  Deck  Fare_adjust  Group_size  Pclass_2  Pclass_3  \\\n",
       "0    1   22      1      0     5            7           2         0         1   \n",
       "1    0   38      1      0     2           36           2         0         0   \n",
       "2    0   26      0      0     6            8           1         0         1   \n",
       "3    0   35      1      0     2           27           2         0         0   \n",
       "4    1   35      0      0     4            8           1         0         1   \n",
       "\n",
       "   Embarked_1  Embarked_2  Title_1  Title_2  Title_3  Title_4  \n",
       "0           0           1        0        0        1        0  \n",
       "1           0           0        0        0        0        1  \n",
       "2           0           1        0        1        0        0  \n",
       "3           0           1        0        0        0        1  \n",
       "4           0           1        0        0        1        0  "
      ]
     },
     "execution_count": 25,
     "metadata": {},
     "output_type": "execute_result"
    }
   ],
   "source": [
    "# filling na with nearest neighbor imputer (scale -> impute -> scale back)\n",
    "scaler = MinMaxScaler()\n",
    "imputer = KNNImputer(n_neighbors=1) # lets go with 1 nearest neigbor (since it can be spose or roommate which is more relevant)\n",
    "\n",
    "df_enc_imp = pd.DataFrame(scaler.fit_transform(df_enc), columns = df.columns)\n",
    "df_enc_imp = pd.DataFrame(imputer.fit_transform(df_enc_imp),columns = df.columns)\n",
    "df_enc_imp = pd.DataFrame(scaler.inverse_transform(df_enc_imp), columns = df.columns)\n",
    "\n",
    "# try smaller category list first\n",
    "categories = ['Pclass', 'Embarked', 'Title']\n",
    "\n",
    "# bigger\n",
    "#categories = ['Pclass', 'Sex', 'SibSp', 'Parch' , 'Embarked', 'Deck', 'Title', 'Group_size']\n",
    "\n",
    "# all features categorical\n",
    "treat_continuous_as_cat = False\n",
    "\n",
    "if treat_continuous_as_cat:\n",
    "    continuous = ['Age', 'Fare_adjust']\n",
    "    #categories += continuous\n",
    "    for cat in continuous:\n",
    "        df_enc_imp[cat] = pd.cut(df_enc_imp[cat], bins=8, labels=False)\n",
    "\n",
    "df_enc_imp = df_enc_imp.round().astype(int)\n",
    "\n",
    "# marking columns as category is enought for lightgbm and it will do one-hot automatically \n",
    "df_enc_imp[categories] = df_enc_imp[categories].astype('category') \n",
    "# or manualy for other estimators\n",
    "df_enc_imp_dum = pd.get_dummies(df_enc_imp, columns = categories, drop_first = True)\n",
    "df_enc_imp_dum.head()"
   ]
  },
  {
   "cell_type": "markdown",
   "metadata": {},
   "source": [
    "# Exploratory analysis"
   ]
  },
  {
   "cell_type": "code",
   "execution_count": 26,
   "metadata": {},
   "outputs": [
    {
     "data": {
      "image/png": "[encoded data removed]",
      "text/plain": [
       "<Figure size 576x576 with 1 Axes>"
      ]
     },
     "metadata": {
      "needs_background": "light"
     },
     "output_type": "display_data"
    }
   ],
   "source": [
    "# Plot correlation matrix\n",
    "df_train = pd.concat([df_enc_imp[:len(y)],y], axis = 1).astype(int)\n",
    "\n",
    "plt.figure(figsize=(8,8))\n",
    "sns.heatmap(df_train.corr(), annot=True, cbar=False, cmap = 'viridis')\n",
    "plt.show()"
   ]
  },
  {
   "cell_type": "code",
   "execution_count": 27,
   "metadata": {},
   "outputs": [],
   "source": [
    "def plot_group(df, col):\n",
    "    fig, (ax1, ax2) = plt.subplots(1, 2, figsize=(12,4))\n",
    "    \n",
    "    (df[df['Sex'] == 1].groupby(by = [col, 'Survived']).count()['Sex']/df[df['Sex'] == 1].groupby(by = [col]).count()['Sex']).unstack().plot.bar(ax=ax1)\n",
    "    ax1.set_title('Male')\n",
    "    \n",
    "    (df[df['Sex'] == 0].groupby(by = [col, 'Survived']).count()['Sex']/df[df['Sex'] == 0].groupby(by = [col]).count()['Sex']).unstack().plot.bar(ax=ax2)\n",
    "    ax2.set_title('Female')\n",
    "    plt.show()"
   ]
  },
  {
   "cell_type": "code",
   "execution_count": 28,
   "metadata": {
    "scrolled": true
   },
   "outputs": [
    {
     "data": {
      "image/png": "[encoded data removed]",
      "text/plain": [
       "<Figure size 864x288 with 2 Axes>"
      ]
     },
     "metadata": {
      "needs_background": "light"
     },
     "output_type": "display_data"
    },
    {
     "data": {
      "image/png": "[encoded data removed]",
      "text/plain": [
       "<Figure size 864x288 with 2 Axes>"
      ]
     },
     "metadata": {
      "needs_background": "light"
     },
     "output_type": "display_data"
    },
    {
     "data": {
      "image/png": "[encoded data removed]",
      "text/plain": [
       "<Figure size 864x288 with 2 Axes>"
      ]
     },
     "metadata": {
      "needs_background": "light"
     },
     "output_type": "display_data"
    },
    {
     "data": {
      "image/png": "[encoded data removed]",
      "text/plain": [
       "<Figure size 864x288 with 2 Axes>"
      ]
     },
     "metadata": {
      "needs_background": "light"
     },
     "output_type": "display_data"
    },
    {
     "data": {
      "image/png": "[encoded data removed]",
      "text/plain": [
       "<Figure size 864x288 with 2 Axes>"
      ]
     },
     "metadata": {
      "needs_background": "light"
     },
     "output_type": "display_data"
    },
    {
     "data": {
      "image/png": "[encoded data removed]",
      "text/plain": [
       "<Figure size 864x288 with 2 Axes>"
      ]
     },
     "metadata": {
      "needs_background": "light"
     },
     "output_type": "display_data"
    },
    {
     "data": {
      "image/png": "[encoded data removed]",
      "text/plain": [
       "<Figure size 864x288 with 2 Axes>"
      ]
     },
     "metadata": {
      "needs_background": "light"
     },
     "output_type": "display_data"
    }
   ],
   "source": [
    "plot_cols = ['Embarked', 'Pclass', 'Deck', 'Title', 'SibSp', 'Parch', 'Group_size']\n",
    "for col in plot_cols:\n",
    "    plot_group(df_train, col)"
   ]
  },
  {
   "cell_type": "code",
   "execution_count": 29,
   "metadata": {},
   "outputs": [
    {
     "data": {
      "image/png": "[encoded data removed]",
      "text/plain": [
       "<Figure size 864x288 with 2 Axes>"
      ]
     },
     "metadata": {
      "needs_background": "light"
     },
     "output_type": "display_data"
    }
   ],
   "source": [
    "fig, (ax1, ax2) = plt.subplots(1, 2, figsize=(12,4))\n",
    "sns.histplot(df_train[df_train['Survived']==0], x='Age', hue='Sex', ax = ax1)\n",
    "ax1.set_title('Survived = 0')\n",
    "sns.histplot(df_train[df_train['Survived']==1], x='Age', hue='Sex', ax = ax2)\n",
    "ax2.set_title('Survived = 1')\n",
    "plt.show()"
   ]
  },
  {
   "cell_type": "markdown",
   "metadata": {},
   "source": [
    "# Machine learning part"
   ]
  },
  {
   "cell_type": "code",
   "execution_count": 30,
   "metadata": {},
   "outputs": [],
   "source": [
    "# Split data to train and test\n",
    "\n",
    "train_X = df_enc_imp_dum[:len(y)] # or use dummy df_enc_imp_dum\n",
    "train_y = y\n",
    "test_X  = df_enc_imp_dum[len(y):]\n",
    "\n",
    "model_train_X, model_test_X, model_train_y, model_test_y = train_test_split(\n",
    "    train_X, train_y, test_size = 0.2, random_state = 1)"
   ]
  },
  {
   "cell_type": "code",
   "execution_count": 31,
   "metadata": {},
   "outputs": [],
   "source": [
    "# print model evaluation metrics\n",
    "def model_evaluation(model, model_train_X, model_train_y, model_test_X, model_test_y):\n",
    "    \n",
    "    cv_score = cross_val_score(model, model_train_X, model_train_y)\n",
    "    print('CV-score on train: {:0.3f} with std: {:0.3f}'.format(cv_score.mean(),cv_score.std()))\n",
    "    print('CV-scores: ', cv_score.round(3))\n",
    "    \n",
    "    model.fit(model_train_X, model_train_y)\n",
    "    model_predict_train_y = model.predict(model_train_X)\n",
    "    model_predict_test_y = model.predict(model_test_X)\n",
    "\n",
    "    print('Score on train: {:0.3f} on test: {:0.3f}'.format(model.score(model_train_X,model_train_y), \n",
    "                                                            model.score(model_test_X, model_test_y)))\n",
    "    print('RMSE on train:  {:0.3f} on test: {:0.3f}'.format(mean_squared_error(model_predict_train_y,model_train_y, squared=False), \n",
    "                                                            mean_squared_error(model_predict_test_y, model_test_y, squared=False)))\n",
    "    print('MAE on train:   {:0.3f} on test: {:0.3f}'.format(mean_absolute_error(model_predict_train_y,model_train_y), \n",
    "                                                            mean_absolute_error(model_predict_test_y, model_test_y)))"
   ]
  },
  {
   "cell_type": "code",
   "execution_count": 32,
   "metadata": {},
   "outputs": [
    {
     "name": "stdout",
     "output_type": "stream",
     "text": [
      "0.8511474441051906\n",
      "{'learning_rate': 0.04, 'n_estimators': 50}\n"
     ]
    }
   ],
   "source": [
    "# Boosting model hyperparameter tuning with GridSearchCV\n",
    "model = LGBMClassifier()\n",
    "#model = GradientBoostingClassifier()\n",
    "#model = RandomForestClassifier()\n",
    "\n",
    "parameters = {\n",
    "    'learning_rate': np.linspace(0.01, 0.1 , 10).round(3),\n",
    "    'n_estimators':  np.linspace(40, 130 , 10, dtype = 'int')\n",
    "}\n",
    "\n",
    "grid_search = GridSearchCV(model, parameters, n_jobs=-1, verbose=0)\n",
    "grid_search.fit(model_train_X, model_train_y)\n",
    "\n",
    "print(grid_search.best_score_)\n",
    "print(grid_search.best_params_)"
   ]
  },
  {
   "cell_type": "code",
   "execution_count": 33,
   "metadata": {},
   "outputs": [
    {
     "data": {
      "image/png": "[encoded data removed]",
      "text/plain": [
       "<Figure size 1800x288 with 1 Axes>"
      ]
     },
     "metadata": {
      "needs_background": "light"
     },
     "output_type": "display_data"
    }
   ],
   "source": [
    "# Plot feature importance\n",
    "model = LGBMClassifier(learning_rate=0.04, n_estimators=50)\n",
    "model.fit(model_train_X, model_train_y)\n",
    "\n",
    "#model = grid_search.best_estimator_\n",
    "\n",
    "top_features = model.feature_importances_[model.feature_importances_>0.01]\n",
    "top_features_labels = model_train_X.columns.values[model.feature_importances_>0.01]\n",
    "\n",
    "plt.figure(figsize=(25,4))\n",
    "plt.bar(range(len(top_features)), top_features, tick_label = top_features_labels)\n",
    "plt.title(model)\n",
    "plt.show()"
   ]
  },
  {
   "cell_type": "code",
   "execution_count": 34,
   "metadata": {},
   "outputs": [
    {
     "data": {
      "image/png": "[encoded data removed]",
      "text/plain": [
       "<Figure size 1800x288 with 1 Axes>"
      ]
     },
     "metadata": {
      "needs_background": "light"
     },
     "output_type": "display_data"
    }
   ],
   "source": [
    "model = RandomForestClassifier(n_estimators = 100)\n",
    "model.fit(model_train_X, model_train_y)\n",
    "\n",
    "top_features = model.feature_importances_[model.feature_importances_>0.01]\n",
    "top_features_labels = model_train_X.columns.values[model.feature_importances_>0.01]\n",
    "\n",
    "plt.figure(figsize=(25,4))\n",
    "plt.bar(range(len(top_features)), top_features, tick_label = top_features_labels)\n",
    "plt.title(model)\n",
    "plt.show()"
   ]
  },
  {
   "cell_type": "code",
   "execution_count": 35,
   "metadata": {},
   "outputs": [
    {
     "name": "stdout",
     "output_type": "stream",
     "text": [
      "0.8455530385107849\n",
      "{'svc__C': 8}\n"
     ]
    }
   ],
   "source": [
    "model = Pipeline([('scaller', MinMaxScaler()), ('svc', SVC())])\n",
    "\n",
    "parameters = {'svc__C': np.linspace(0.1, 10 , 100, dtype = 'int')}\n",
    "\n",
    "grid_search = GridSearchCV(model, parameters, n_jobs=-1, verbose=0)\n",
    "grid_search.fit(model_train_X, model_train_y)\n",
    "\n",
    "print(grid_search.best_score_)\n",
    "print(grid_search.best_params_)"
   ]
  },
  {
   "cell_type": "code",
   "execution_count": 36,
   "metadata": {},
   "outputs": [
    {
     "name": "stdout",
     "output_type": "stream",
     "text": [
      "-------LGBM-Classifier----------------\n",
      "CV-score on train: 0.841 with std: 0.026\n",
      "CV-scores:  [0.79  0.853 0.866 0.852 0.845]\n",
      "Score on train: 0.910 on test: 0.782\n",
      "RMSE on train:  0.300 on test: 0.467\n",
      "MAE on train:   0.090 on test: 0.218\n",
      "\n",
      "-------GB-Classifier------------------\n",
      "CV-score on train: 0.847 with std: 0.026\n",
      "CV-scores:  [0.797 0.867 0.845 0.866 0.859]\n",
      "Score on train: 0.895 on test: 0.788\n",
      "RMSE on train:  0.325 on test: 0.461\n",
      "MAE on train:   0.105 on test: 0.212\n",
      "\n",
      "-------Random-Forest-Classifier------\n",
      "CV-score on train: 0.837 with std: 0.036\n",
      "CV-scores:  [0.776 0.825 0.845 0.887 0.852]\n",
      "Score on train: 0.973 on test: 0.782\n",
      "RMSE on train:  0.163 on test: 0.467\n",
      "MAE on train:   0.027 on test: 0.218\n",
      "\n",
      "-------SVC---------------------------\n",
      "CV-score on train: 0.843 with std: 0.025\n",
      "CV-scores:  [0.804 0.846 0.852 0.88  0.831]\n",
      "Score on train: 0.853 on test: 0.782\n",
      "RMSE on train:  0.384 on test: 0.467\n",
      "MAE on train:   0.147 on test: 0.218\n",
      "\n",
      "-------Logistic-Regression-----------\n",
      "CV-score on train: 0.827 with std: 0.031\n",
      "CV-scores:  [0.769 0.853 0.852 0.831 0.831]\n",
      "Score on train: 0.846 on test: 0.810\n",
      "RMSE on train:  0.393 on test: 0.436\n",
      "MAE on train:   0.154 on test: 0.190\n",
      "\n",
      "-------Voting-Classifier-------------\n",
      "CV-score on train: 0.851 with std: 0.032\n",
      "CV-scores:  [0.79  0.874 0.859 0.88  0.852]\n",
      "Score on train: 0.899 on test: 0.777\n",
      "RMSE on train:  0.318 on test: 0.473\n",
      "MAE on train:   0.101 on test: 0.223\n",
      "\n",
      "-------Stacking-Classifier-----------\n",
      "CV-score on train: 0.853 with std: 0.027\n",
      "CV-scores:  [0.804 0.874 0.859 0.88  0.845]\n",
      "Score on train: 0.903 on test: 0.777\n",
      "RMSE on train:  0.311 on test: 0.473\n",
      "MAE on train:   0.097 on test: 0.223\n",
      "CPU times: user 35.2 s, sys: 2.6 s, total: 37.8 s\n",
      "Wall time: 23.1 s\n"
     ]
    }
   ],
   "source": [
    "%%time\n",
    "\n",
    "model1 = LGBMClassifier(learning_rate=0.1, n_estimators=50)\n",
    "\n",
    "model2 = GradientBoostingClassifier(learning_rate=0.1, n_estimators=70)\n",
    "\n",
    "model3 = RandomForestClassifier(n_estimators = 100)\n",
    "\n",
    "model4 = make_pipeline(MinMaxScaler(), SVC(C = 2))\n",
    "\n",
    "model5 = make_pipeline(MinMaxScaler(), LogisticRegression())\n",
    "\n",
    "model_voting = VotingClassifier(estimators=[\n",
    "    ('lgbm', model1),\n",
    "    ('gbm',  model2),\n",
    "    ('rf',   model3),    \n",
    "    ('SVR',  model4),\n",
    "    ('lr',   model5)])\n",
    "\n",
    "model_stacking = StackingClassifier(estimators=[\n",
    "    ('lgbm', model1),\n",
    "    ('gbm',  model2),\n",
    "    ('rf',   model3),\n",
    "    ('SVR',  model4),\n",
    "    ('lr',   model5)])\n",
    "\n",
    "print('-------LGBM-Classifier----------------')\n",
    "model_evaluation(model1, model_train_X, model_train_y, model_test_X, model_test_y)\n",
    "\n",
    "print('\\n-------GB-Classifier------------------')\n",
    "model_evaluation(model2, model_train_X, model_train_y, model_test_X, model_test_y)\n",
    "\n",
    "print('\\n-------Random-Forest-Classifier------')\n",
    "model_evaluation(model3, model_train_X, model_train_y, model_test_X, model_test_y)\n",
    "\n",
    "print('\\n-------SVC---------------------------')\n",
    "model_evaluation(model4, model_train_X, model_train_y, model_test_X, model_test_y)\n",
    "\n",
    "print('\\n-------Logistic-Regression-----------')\n",
    "model_evaluation(model5, model_train_X, model_train_y, model_test_X, model_test_y)\n",
    "\n",
    "print('\\n-------Voting-Classifier-------------')\n",
    "model_evaluation(model_voting, model_train_X, model_train_y, model_test_X, model_test_y)\n",
    "\n",
    "print('\\n-------Stacking-Classifier-----------')\n",
    "model_evaluation(model_stacking, model_train_X, model_train_y, model_test_X, model_test_y)"
   ]
  },
  {
   "cell_type": "code",
   "execution_count": 37,
   "metadata": {},
   "outputs": [],
   "source": [
    "# pick the best estimator\n",
    "# try with different features \n",
    "# hypertune more parameters\n",
    "\n",
    "model_final = model_stacking\n",
    "\n",
    "model_final.fit(train_X, train_y)\n",
    "prediction = model_final.predict(test_X)\n",
    "\n",
    "prediction_df = test[['PassengerId']].copy()\n",
    "prediction_df['Survived'] = prediction\n",
    "\n",
    "prediction_df.to_csv('submission_titanic.csv',index=False)"
   ]
  },
  {
   "cell_type": "code",
   "execution_count": null,
   "metadata": {},
   "outputs": [],
   "source": []
  }
 ],
 "metadata": {
  "kernelspec": {
   "display_name": "Python 3",
   "language": "python",
   "name": "python3"
  },
  "language_info": {
   "codemirror_mode": {
    "name": "ipython",
    "version": 3
   },
   "file_extension": ".py",
   "mimetype": "text/x-python",
   "name": "python",
   "nbconvert_exporter": "python",
   "pygments_lexer": "ipython3",
   "version": "3.7.9"
  }
 },
 "nbformat": 4,
 "nbformat_minor": 4
}
